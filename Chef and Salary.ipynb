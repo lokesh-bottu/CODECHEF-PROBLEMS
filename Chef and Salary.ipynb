{
 "cells": [
  {
   "cell_type": "code",
   "execution_count": null,
   "id": "b8ad2521",
   "metadata": {},
   "outputs": [],
   "source": [
    "for test in range(int(input())):\n",
    "    x,y  = map(int,input().split())\n",
    "    list = input()\n",
    "    lstrk=0\n",
    "    strk=0\n",
    "    wd=0\n",
    "    for i in list:\n",
    "        if i=='1':\n",
    "            wd+=1 \n",
    "            strk+=1\n",
    "        else:\n",
    "            strk=0\n",
    "        if strk>lstrk:\n",
    "            lstrk=strk\n",
    "    print((wd*x)+(lstrk*y))"
   ]
  }
 ],
 "metadata": {
  "kernelspec": {
   "display_name": "Python 3 (ipykernel)",
   "language": "python",
   "name": "python3"
  },
  "language_info": {
   "codemirror_mode": {
    "name": "ipython",
    "version": 3
   },
   "file_extension": ".py",
   "mimetype": "text/x-python",
   "name": "python",
   "nbconvert_exporter": "python",
   "pygments_lexer": "ipython3",
   "version": "3.9.12"
  }
 },
 "nbformat": 4,
 "nbformat_minor": 5
}
