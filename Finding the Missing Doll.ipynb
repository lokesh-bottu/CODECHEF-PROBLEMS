{
 "cells": [
  {
   "cell_type": "markdown",
   "id": "ac219434",
   "metadata": {},
   "source": [
    "# Gives the count of Missing Dolls\n"
   ]
  },
  {
   "cell_type": "code",
   "execution_count": 3,
   "id": "6944ab84",
   "metadata": {},
   "outputs": [
    {
     "name": "stdout",
     "output_type": "stream",
     "text": [
      "No of Test Cases:5\n",
      "No of Dolls : 5\n",
      "1\n",
      "3\n",
      "1\n",
      "12\n",
      "1\n",
      "Count :  3\n",
      "No of Dolls : 2\n",
      "1\n",
      "1\n",
      "Count :  0\n",
      "No of Dolls : 3\n",
      "1\n",
      "2\n",
      "1\n",
      "Count :  1\n",
      "No of Dolls : 4\n",
      "1\n",
      "1\n",
      "2\n",
      "2\n",
      "Count :  0\n",
      "No of Dolls : 3\n",
      "1\n",
      "1\n",
      "1\n",
      "Count :  1\n"
     ]
    }
   ],
   "source": [
    "T=int(input(\"No of Test Cases:\"))\n",
    "for k in range(1,T+1):\n",
    "    N= int(input(\"No of Dolls : \"))\n",
    "    dolls=[]\n",
    "    for j in range(1,N+1):\n",
    "        doll=int(input())\n",
    "        dolls.append(doll)     \n",
    "    count=0\n",
    "    freq=[]\n",
    "    for i in range(len(dolls)):\n",
    "        if dolls[i] in freq:\n",
    "            i+=1\n",
    "        else:\n",
    "            freq.append(dolls[i])\n",
    "            if dolls.count(dolls[i])%2 ==0:\n",
    "                i+=1\n",
    "            else:\n",
    "                count+=1\n",
    "                i+=1\n",
    "    print(\"Count : \",count)\n",
    "    "
   ]
  },
  {
   "cell_type": "markdown",
   "id": "6b037604",
   "metadata": {},
   "source": [
    "# Gives the Missing Dolls\n"
   ]
  },
  {
   "cell_type": "code",
   "execution_count": 4,
   "id": "72478100",
   "metadata": {},
   "outputs": [
    {
     "name": "stdout",
     "output_type": "stream",
     "text": [
      "No of Test Cases:2\n",
      "No of Dolls : 5\n",
      "1\n",
      "3\n",
      "1\n",
      "2\n",
      "1\n",
      "1\n",
      "3\n",
      "2\n",
      "No of Dolls : 2\n",
      "1\n",
      "1\n"
     ]
    }
   ],
   "source": [
    "T=int(input(\"No of Test Cases:\"))\n",
    "for k in range(1,T+1):\n",
    "    N= int(input(\"No of Dolls : \"))\n",
    "    dolls=[]\n",
    "    for j in range(1,N+1):\n",
    "        doll=int(input())\n",
    "        dolls.append(doll)     \n",
    "    count=0\n",
    "    freq=[]\n",
    "    for i in range(len(dolls)):\n",
    "        if dolls[i] in freq:\n",
    "            i+=1\n",
    "        else:\n",
    "            freq.append(dolls[i])\n",
    "            if dolls.count(dolls[i])%2 ==0:\n",
    "                i+=1\n",
    "            else:\n",
    "                print(dolls[i])\n",
    "                i+=1\n",
    "    "
   ]
  },
  {
   "cell_type": "code",
   "execution_count": null,
   "id": "950059e5",
   "metadata": {},
   "outputs": [],
   "source": []
  }
 ],
 "metadata": {
  "kernelspec": {
   "display_name": "Python 3 (ipykernel)",
   "language": "python",
   "name": "python3"
  },
  "language_info": {
   "codemirror_mode": {
    "name": "ipython",
    "version": 3
   },
   "file_extension": ".py",
   "mimetype": "text/x-python",
   "name": "python",
   "nbconvert_exporter": "python",
   "pygments_lexer": "ipython3",
   "version": "3.9.12"
  }
 },
 "nbformat": 4,
 "nbformat_minor": 5
}
