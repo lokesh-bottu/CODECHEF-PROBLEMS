{
 "cells": [
  {
   "cell_type": "code",
   "execution_count": 22,
   "id": "0d466762",
   "metadata": {},
   "outputs": [
    {
     "name": "stdout",
     "output_type": "stream",
     "text": [
      "3\n",
      "3\n",
      "4 4 4\n",
      "NO\n",
      "4\n",
      "1 2 2 1\n",
      "YES\n",
      "4\n",
      "2 2 2 2\n",
      "YES\n"
     ]
    }
   ],
   "source": [
    "for k in range(int(input())):\n",
    "    n = int(input())\n",
    "    animal=input().split()\n",
    "    flag=0\n",
    "    freq=[]\n",
    "    for i in animal:\n",
    "        if i in freq:\n",
    "            pass\n",
    "        else:\n",
    "            freq.append(i)\n",
    "            if ((animal.count(i))%2)==0:\n",
    "                pass\n",
    "            else:\n",
    "                flag=1\n",
    "                print(\"NO\")\n",
    "                break\n",
    "    if(flag==0):\n",
    "        print(\"YES\")"
   ]
  }
 ],
 "metadata": {
  "kernelspec": {
   "display_name": "Python 3 (ipykernel)",
   "language": "python",
   "name": "python3"
  },
  "language_info": {
   "codemirror_mode": {
    "name": "ipython",
    "version": 3
   },
   "file_extension": ".py",
   "mimetype": "text/x-python",
   "name": "python",
   "nbconvert_exporter": "python",
   "pygments_lexer": "ipython3",
   "version": "3.9.12"
  }
 },
 "nbformat": 4,
 "nbformat_minor": 5
}
