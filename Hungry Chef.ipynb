{
 "cells": [
  {
   "cell_type": "code",
   "execution_count": 4,
   "id": "75f74557",
   "metadata": {},
   "outputs": [
    {
     "name": "stdout",
     "output_type": "stream",
     "text": [
      "4\n",
      "2 10 4 12\n",
      "4 0\n",
      "2 4 10 12\n",
      "-1\n",
      "5 10 1 20\n",
      "0 1\n",
      "4 8 2 20\n",
      "0 2\n"
     ]
    }
   ],
   "source": [
    "for k in range(int(input())):\n",
    "    inp=input().split()\n",
    "    nor=int(inp[0])\n",
    "    pre=int(inp[1])\n",
    "    num=int(inp[2])\n",
    "    amount=int(inp[3])\n",
    "    if((nor*num)<=amount):\n",
    "        if pre<=amount:\n",
    "            normal=0\n",
    "            prem=num\n",
    "            while(True):\n",
    "                cost=((prem*pre)+(normal*nor))\n",
    "                if(cost<=amount):\n",
    "                    print(normal,prem)\n",
    "                    break      \n",
    "                else:\n",
    "                    prem=prem-1\n",
    "                    normal=normal+1\n",
    "        else:\n",
    "            print(num,0)\n",
    "    else:\n",
    "        print(-1)"
   ]
  },
  {
   "cell_type": "code",
   "execution_count": null,
   "id": "ddc1fdbe",
   "metadata": {},
   "outputs": [],
   "source": []
  }
 ],
 "metadata": {
  "kernelspec": {
   "display_name": "Python 3 (ipykernel)",
   "language": "python",
   "name": "python3"
  },
  "language_info": {
   "codemirror_mode": {
    "name": "ipython",
    "version": 3
   },
   "file_extension": ".py",
   "mimetype": "text/x-python",
   "name": "python",
   "nbconvert_exporter": "python",
   "pygments_lexer": "ipython3",
   "version": "3.9.12"
  }
 },
 "nbformat": 4,
 "nbformat_minor": 5
}
