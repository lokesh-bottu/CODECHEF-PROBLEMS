{
 "cells": [
  {
   "cell_type": "code",
   "execution_count": null,
   "id": "c022e9d0",
   "metadata": {},
   "outputs": [],
   "source": [
    "for k in range(int(input())):\n",
    "    n,u,d=map(int,input().split())\n",
    "    hills=input().split()\n",
    "    hills=[eval(i) for i in hills]\n",
    "    count=0\n",
    "    for i in range(len(hills)-1):\n",
    "        if hills[i+1]>hills[i]:\n",
    "            if(abs(hills[i+1]-hills[i])>u):\n",
    "                print(i+1)\n",
    "                break\n",
    "\n",
    "        elif hills[i+1]<hills[i]:\n",
    "            if(abs(hills[i+1]-hills[i])>d):\n",
    "                if(count==0):\n",
    "                    count+=1\n",
    "                else:\n",
    "                    print(i+1)\n",
    "                    break\n",
    "        else:\n",
    "            pass\n",
    "        if((i+1)==len(hills)-1):\n",
    "            print(i+2)"
   ]
  }
 ],
 "metadata": {
  "kernelspec": {
   "display_name": "Python 3 (ipykernel)",
   "language": "python",
   "name": "python3"
  },
  "language_info": {
   "codemirror_mode": {
    "name": "ipython",
    "version": 3
   },
   "file_extension": ".py",
   "mimetype": "text/x-python",
   "name": "python",
   "nbconvert_exporter": "python",
   "pygments_lexer": "ipython3",
   "version": "3.9.12"
  }
 },
 "nbformat": 4,
 "nbformat_minor": 5
}
