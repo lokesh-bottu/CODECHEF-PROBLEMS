{
 "cells": [
  {
   "cell_type": "code",
   "execution_count": 1,
   "id": "26e9b46c",
   "metadata": {},
   "outputs": [
    {
     "name": "stdout",
     "output_type": "stream",
     "text": [
      "3\n",
      "5 2\n",
      "*a*b*\n",
      "NO\n",
      "5 2\n",
      "*a**b\n",
      "YES\n",
      "5 1\n",
      "abcde\n",
      "NO\n"
     ]
    }
   ],
   "source": [
    "for test in range(int(input())):\n",
    "    n,k=map(int,input().split())\n",
    "    list=input()\n",
    "    streak=0\n",
    "    flag=0\n",
    "    for i in list:\n",
    "        if(i=='*'):\n",
    "           streak+=1\n",
    "           if(streak==k):\n",
    "               flag=1\n",
    "               print(\"YES\")\n",
    "               break\n",
    "        else:\n",
    "            streak=0\n",
    "    if flag==0:\n",
    "        print(\"NO\")"
   ]
  },
  {
   "cell_type": "code",
   "execution_count": null,
   "id": "c38c2bfe",
   "metadata": {},
   "outputs": [],
   "source": []
  }
 ],
 "metadata": {
  "kernelspec": {
   "display_name": "Python 3 (ipykernel)",
   "language": "python",
   "name": "python3"
  },
  "language_info": {
   "codemirror_mode": {
    "name": "ipython",
    "version": 3
   },
   "file_extension": ".py",
   "mimetype": "text/x-python",
   "name": "python",
   "nbconvert_exporter": "python",
   "pygments_lexer": "ipython3",
   "version": "3.9.12"
  }
 },
 "nbformat": 4,
 "nbformat_minor": 5
}
