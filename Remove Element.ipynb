{
 "cells": [
  {
   "cell_type": "code",
   "execution_count": 5,
   "id": "6b95e72a",
   "metadata": {},
   "outputs": [
    {
     "name": "stdout",
     "output_type": "stream",
     "text": [
      "1 3\n",
      "1\n",
      "Yes\n"
     ]
    }
   ],
   "source": [
    "for test in range(int(input())):\n",
    "    n,k = map(int,input().split())\n",
    "    list=input().split()\n",
    "    list=[eval(i) for i in list]\n",
    "    list.sort()\n",
    "    i,j=(0,len(list)-1)\n",
    "    while(j!=0):\n",
    "        if(list[i]+list[j]<=k):\n",
    "            j=j-1\n",
    "        else:\n",
    "            print(\"NO\")\n",
    "            break\n",
    "    if(j==0):\n",
    "        print(\"YES\")"
   ]
  },
  {
   "cell_type": "code",
   "execution_count": null,
   "id": "50c2cd0e",
   "metadata": {},
   "outputs": [],
   "source": []
  }
 ],
 "metadata": {
  "kernelspec": {
   "display_name": "Python 3 (ipykernel)",
   "language": "python",
   "name": "python3"
  },
  "language_info": {
   "codemirror_mode": {
    "name": "ipython",
    "version": 3
   },
   "file_extension": ".py",
   "mimetype": "text/x-python",
   "name": "python",
   "nbconvert_exporter": "python",
   "pygments_lexer": "ipython3",
   "version": "3.9.12"
  }
 },
 "nbformat": 4,
 "nbformat_minor": 5
}
