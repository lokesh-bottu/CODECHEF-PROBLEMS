{
 "cells": [
  {
   "cell_type": "code",
   "execution_count": 2,
   "id": "8fee6535",
   "metadata": {},
   "outputs": [],
   "source": [
    "#4 8 4 6 7 3\n",
    "# 4 6 8\n",
    "# 4 3 7\n",
    "\n",
    "\n",
    "#4 8 6 8 7 3\n",
    "\n",
    "#2 4 5 3\n",
    "\n",
    "#8 7 9 8 4 6 2 8 \n"
   ]
  },
  {
   "cell_type": "code",
   "execution_count": 10,
   "id": "0a68cb24",
   "metadata": {},
   "outputs": [
    {
     "name": "stdout",
     "output_type": "stream",
     "text": [
      "4\n",
      "3\n",
      "4 8 4 6 7 3\n",
      "Yes\n",
      "3\n",
      "4 8 6 8 7 8\n",
      "No\n",
      "2\n",
      "2 4 5 3\n",
      "Yes\n",
      "4\n",
      "8 7 9 8 4 6 2 8\n",
      "No\n"
     ]
    }
   ],
   "source": [
    "for j in range(int(input())):\n",
    "    n = int(input())\n",
    "    A = input().split()\n",
    "    res = [eval(i) for i in A]\n",
    "    flag=0\n",
    "    for i in res:\n",
    "        if(res.count(i)>2):\n",
    "            print(\"No\")\n",
    "            flag=1\n",
    "            break\n",
    "    if flag==0:\n",
    "        print(\"Yes\")"
   ]
  },
  {
   "cell_type": "code",
   "execution_count": null,
   "id": "9b82ab93",
   "metadata": {},
   "outputs": [],
   "source": []
  }
 ],
 "metadata": {
  "kernelspec": {
   "display_name": "Python 3 (ipykernel)",
   "language": "python",
   "name": "python3"
  },
  "language_info": {
   "codemirror_mode": {
    "name": "ipython",
    "version": 3
   },
   "file_extension": ".py",
   "mimetype": "text/x-python",
   "name": "python",
   "nbconvert_exporter": "python",
   "pygments_lexer": "ipython3",
   "version": "3.9.12"
  }
 },
 "nbformat": 4,
 "nbformat_minor": 5
}
