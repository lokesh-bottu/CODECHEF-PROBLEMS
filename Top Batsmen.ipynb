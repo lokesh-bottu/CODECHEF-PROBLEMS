{
 "cells": [
  {
   "cell_type": "code",
   "execution_count": 23,
   "id": "e74b7c68",
   "metadata": {},
   "outputs": [
    {
     "name": "stdout",
     "output_type": "stream",
     "text": [
      "1\n",
      "2 5 1 2 4 1 6 5 2 2 1\n",
      "6\n"
     ]
    }
   ],
   "source": [
    "for k in range(int(input())):\n",
    "    list=input().split()\n",
    "    n=int(input())\n",
    "    list=[eval(i) for i in list]\n",
    "    list.sort()\n",
    "    i=10\n",
    "    while(i>=0):\n",
    "        c=list.count(list[i])\n",
    "        if c==n:\n",
    "            print(1)\n",
    "            break\n",
    "        elif c<n:\n",
    "            n=n-c\n",
    "            i=i-c\n",
    "        else:\n",
    "            start=c\n",
    "            num=1\n",
    "            while(start>(c-n)):\n",
    "                num=num*start\n",
    "                start=start-1\n",
    "            end=n\n",
    "            den=1\n",
    "            while(end>=1):\n",
    "                den=end*den\n",
    "                end=end-1\n",
    "            print(int(num/den))\n",
    "            break"
   ]
  },
  {
   "cell_type": "code",
   "execution_count": null,
   "id": "f0d7bdd6",
   "metadata": {},
   "outputs": [],
   "source": []
  }
 ],
 "metadata": {
  "kernelspec": {
   "display_name": "Python 3 (ipykernel)",
   "language": "python",
   "name": "python3"
  },
  "language_info": {
   "codemirror_mode": {
    "name": "ipython",
    "version": 3
   },
   "file_extension": ".py",
   "mimetype": "text/x-python",
   "name": "python",
   "nbconvert_exporter": "python",
   "pygments_lexer": "ipython3",
   "version": "3.9.12"
  }
 },
 "nbformat": 4,
 "nbformat_minor": 5
}
