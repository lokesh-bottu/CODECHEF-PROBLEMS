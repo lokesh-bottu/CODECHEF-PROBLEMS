{
 "cells": [
  {
   "cell_type": "code",
   "execution_count": null,
   "id": "38fde264",
   "metadata": {},
   "outputs": [],
   "source": [
    "for test in range(int(input())):\n",
    "    n=int(input())\n",
    "    list = input().split()\n",
    "    list = [eval(i) for i in list]\n",
    "    dif = 0\n",
    "    small=list[0]\n",
    "    for i in range(len(list)-1):\n",
    "        if(list[i]<list[i+1]):\n",
    "            dif = max(dif,list[i+1]-small)\n",
    "        else:\n",
    "            small=min(small,list[i+1])\n",
    "    if dif>0:\n",
    "        print(dif)\n",
    "    else:\n",
    "        print(\"UNFIT\")"
   ]
  },
  {
   "cell_type": "code",
   "execution_count": null,
   "id": "788ce5d8",
   "metadata": {},
   "outputs": [],
   "source": [
    "# cook your dish here\n",
    "for test in range(int(input())):\n",
    "    n=int(input())\n",
    "    list=input().split()\n",
    "    list=[eval(i) for i in list]\n",
    "    dif=0\n",
    "    for i in range(len(list)-1):\n",
    "        for j in range(i+1,len(list)):\n",
    "            if(list[j]-list[i]>dif):\n",
    "                dif= list[j]-list[i]\n",
    "                first=list[i]\n",
    "                last=list[j]\n",
    "    if dif>0:\n",
    "        print(last-first)\n",
    "    else:\n",
    "        print(\"UNFIT\")"
   ]
  }
 ],
 "metadata": {
  "kernelspec": {
   "display_name": "Python 3 (ipykernel)",
   "language": "python",
   "name": "python3"
  },
  "language_info": {
   "codemirror_mode": {
    "name": "ipython",
    "version": 3
   },
   "file_extension": ".py",
   "mimetype": "text/x-python",
   "name": "python",
   "nbconvert_exporter": "python",
   "pygments_lexer": "ipython3",
   "version": "3.9.12"
  }
 },
 "nbformat": 4,
 "nbformat_minor": 5
}
