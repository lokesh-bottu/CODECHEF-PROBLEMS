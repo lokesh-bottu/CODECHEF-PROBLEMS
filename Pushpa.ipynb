{
 "cells": [
  {
   "cell_type": "code",
   "execution_count": 6,
   "id": "1ed02b23",
   "metadata": {},
   "outputs": [
    {
     "name": "stdout",
     "output_type": "stream",
     "text": [
      "2\n",
      "4\n",
      "1 2 1 3\n",
      "3\n",
      "1\n",
      "2\n",
      "2\n"
     ]
    }
   ],
   "source": [
    "for test in range(int(input())):\n",
    "    towers=int(input())\n",
    "    list=input().split()\n",
    "    list=[eval(i) for i in list]\n",
    "    height=max(list)\n",
    "    for k in range(0,len(list)): \n",
    "        n=list[:]\n",
    "        j=k\n",
    "        num=n[j]\n",
    "        n=[i+1 for i in n]\n",
    "        n[j]=n[j]-1\n",
    "        while((num+1) in n):\n",
    "            j=n.index((num+1))\n",
    "            num=n[j]\n",
    "            n=[i+1 for i in n]\n",
    "            n[j]=n[j]-1\n",
    "        if(n[j]>height):\n",
    "            height=n[j]\n",
    "    print(height)"
   ]
  },
  {
   "cell_type": "code",
   "execution_count": 1,
   "id": "b0ecabd6",
   "metadata": {},
   "outputs": [
    {
     "name": "stdout",
     "output_type": "stream",
     "text": [
      "1 2 1 3\n",
      "3\n"
     ]
    }
   ],
   "source": [
    "hj = [int(i) for i in input().split()]\n",
    "ploy = 0\n",
    "for i in set(hj):\n",
    "    if ploy < (i+hj.count(i))-1:\n",
    "        ploy = (i+hj.count(i))-1\n",
    "print(ploy)"
   ]
  },
  {
   "cell_type": "code",
   "execution_count": 2,
   "id": "c52e1c58",
   "metadata": {},
   "outputs": [
    {
     "ename": "NameError",
     "evalue": "name 'set9hj' is not defined",
     "output_type": "error",
     "traceback": [
      "\u001b[1;31m---------------------------------------------------------------------------\u001b[0m",
      "\u001b[1;31mNameError\u001b[0m                                 Traceback (most recent call last)",
      "Input \u001b[1;32mIn [2]\u001b[0m, in \u001b[0;36m<cell line: 1>\u001b[1;34m()\u001b[0m\n\u001b[1;32m----> 1\u001b[0m \u001b[43mset9hj\u001b[49m\n",
      "\u001b[1;31mNameError\u001b[0m: name 'set9hj' is not defined"
     ]
    }
   ],
   "source": [
    "set9hj"
   ]
  },
  {
   "cell_type": "code",
   "execution_count": 3,
   "id": "3634ffa2",
   "metadata": {},
   "outputs": [
    {
     "data": {
      "text/plain": [
       "{1, 2, 3}"
      ]
     },
     "execution_count": 3,
     "metadata": {},
     "output_type": "execute_result"
    }
   ],
   "source": [
    "set(hj)"
   ]
  },
  {
   "cell_type": "code",
   "execution_count": null,
   "id": "37854f62",
   "metadata": {},
   "outputs": [],
   "source": []
  }
 ],
 "metadata": {
  "kernelspec": {
   "display_name": "Python 3 (ipykernel)",
   "language": "python",
   "name": "python3"
  },
  "language_info": {
   "codemirror_mode": {
    "name": "ipython",
    "version": 3
   },
   "file_extension": ".py",
   "mimetype": "text/x-python",
   "name": "python",
   "nbconvert_exporter": "python",
   "pygments_lexer": "ipython3",
   "version": "3.9.12"
  }
 },
 "nbformat": 4,
 "nbformat_minor": 5
}
