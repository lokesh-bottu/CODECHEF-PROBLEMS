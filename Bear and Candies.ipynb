{
 "cells": [
  {
   "cell_type": "code",
   "execution_count": 11,
   "id": "6ac7f171",
   "metadata": {},
   "outputs": [
    {
     "name": "stdout",
     "output_type": "stream",
     "text": [
      "10\n",
      "3 2\n",
      "Bob\n",
      "4 2\n",
      "Limba\n",
      "1 1\n",
      "Limba\n",
      "1 2\n",
      "Bob\n",
      "1 3\n",
      "Bob\n",
      "9 3\n",
      "Limba\n",
      "9 11\n",
      "Limba\n",
      "9 12\n",
      "Bob\n",
      "9 1000\n",
      "Bob\n",
      "8 11\n",
      "Bob\n"
     ]
    }
   ],
   "source": [
    "\n",
    "for k in range(int(input())):\n",
    "    lim,bob=map(int,input().split())\n",
    "    lim_count=0\n",
    "    bob_count=0\n",
    "    i=1\n",
    "    j=2\n",
    "    while(True):\n",
    "        lim_count=lim_count+i\n",
    "        if lim_count>lim:\n",
    "            print(\"Bob\")\n",
    "            break\n",
    "        i+=2\n",
    "        bob_count=bob_count+j\n",
    "        if bob_count>bob:\n",
    "            print(\"Limba\")\n",
    "            break\n",
    "        j+=2"
   ]
  },
  {
   "cell_type": "code",
   "execution_count": null,
   "id": "73442f6d",
   "metadata": {},
   "outputs": [],
   "source": []
  }
 ],
 "metadata": {
  "kernelspec": {
   "display_name": "Python 3 (ipykernel)",
   "language": "python",
   "name": "python3"
  },
  "language_info": {
   "codemirror_mode": {
    "name": "ipython",
    "version": 3
   },
   "file_extension": ".py",
   "mimetype": "text/x-python",
   "name": "python",
   "nbconvert_exporter": "python",
   "pygments_lexer": "ipython3",
   "version": "3.9.12"
  }
 },
 "nbformat": 4,
 "nbformat_minor": 5
}
