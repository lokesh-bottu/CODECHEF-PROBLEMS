{
 "cells": [
  {
   "cell_type": "code",
   "execution_count": 21,
   "id": "ecb60bc2",
   "metadata": {},
   "outputs": [
    {
     "name": "stdout",
     "output_type": "stream",
     "text": [
      "3\n",
      "4 5\n",
      "7 3 6 5\n",
      "YES\n",
      "3 4\n",
      "3 10 10\n",
      "NO 1\n",
      "3 4\n",
      "8 1 1\n",
      "NO 3\n"
     ]
    }
   ],
   "source": [
    "# cook your dish here\n",
    "for k in range(int(input())):\n",
    "    n,diet=map(int,input().split())\n",
    "    values=input().split()\n",
    "    val=[eval(i) for i in values]\n",
    "    present=0\n",
    "    flag=1\n",
    "    j=0\n",
    "    for i in val:\n",
    "        j+=1\n",
    "        present=present+i\n",
    "        #print(\"Present  :\",present)\n",
    "        if present>=diet: \n",
    "            present=present-diet\n",
    "        else:\n",
    "            flag=0\n",
    "            print(\"NO\",j)\n",
    "            break\n",
    "    if flag==1:\n",
    "        print(\"YES\")"
   ]
  },
  {
   "cell_type": "code",
   "execution_count": null,
   "id": "a270e635",
   "metadata": {},
   "outputs": [],
   "source": []
  }
 ],
 "metadata": {
  "kernelspec": {
   "display_name": "Python 3 (ipykernel)",
   "language": "python",
   "name": "python3"
  },
  "language_info": {
   "codemirror_mode": {
    "name": "ipython",
    "version": 3
   },
   "file_extension": ".py",
   "mimetype": "text/x-python",
   "name": "python",
   "nbconvert_exporter": "python",
   "pygments_lexer": "ipython3",
   "version": "3.9.12"
  }
 },
 "nbformat": 4,
 "nbformat_minor": 5
}
