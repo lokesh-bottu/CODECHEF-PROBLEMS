{
 "cells": [
  {
   "cell_type": "code",
   "execution_count": null,
   "id": "61f74ab3",
   "metadata": {},
   "outputs": [],
   "source": [
    "for k in range(int(input())):\n",
    "    N = int(input())\n",
    "    S = input()\n",
    "    v=['a','e','i','o','u']\n",
    "    count=0\n",
    "    for i in range(len(S)):\n",
    "        if S[i] not in v:\n",
    "            count+=1\n",
    "            if count>=4:\n",
    "                print(\"NO\")\n",
    "                break    \n",
    "        else:\n",
    "            count=0\n",
    "    else:\n",
    "        print(\"YES\")\n",
    "        "
   ]
  },
  {
   "cell_type": "code",
   "execution_count": null,
   "id": "a4ffca3b",
   "metadata": {},
   "outputs": [],
   "source": []
  }
 ],
 "metadata": {
  "kernelspec": {
   "display_name": "Python 3 (ipykernel)",
   "language": "python",
   "name": "python3"
  },
  "language_info": {
   "codemirror_mode": {
    "name": "ipython",
    "version": 3
   },
   "file_extension": ".py",
   "mimetype": "text/x-python",
   "name": "python",
   "nbconvert_exporter": "python",
   "pygments_lexer": "ipython3",
   "version": "3.9.12"
  }
 },
 "nbformat": 4,
 "nbformat_minor": 5
}
