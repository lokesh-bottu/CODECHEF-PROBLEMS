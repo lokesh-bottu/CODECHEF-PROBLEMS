{
 "cells": [
  {
   "cell_type": "code",
   "execution_count": null,
   "id": "674f6ed5",
   "metadata": {},
   "outputs": [],
   "source": [
    "for test in range(int(input())):\n",
    "    n=int(input())\n",
    "    list =input().split()\n",
    "    list = [eval(i) for i in list]\n",
    "    size=list[0]\n",
    "    for i in range(1,len(list)):\n",
    "        if(list[i]>list[i-1]):\n",
    "            size=size+(list[i]-list[i-1])\n",
    "    print(size)\n",
    "        "
   ]
  }
 ],
 "metadata": {
  "kernelspec": {
   "display_name": "Python 3 (ipykernel)",
   "language": "python",
   "name": "python3"
  },
  "language_info": {
   "codemirror_mode": {
    "name": "ipython",
    "version": 3
   },
   "file_extension": ".py",
   "mimetype": "text/x-python",
   "name": "python",
   "nbconvert_exporter": "python",
   "pygments_lexer": "ipython3",
   "version": "3.9.12"
  }
 },
 "nbformat": 4,
 "nbformat_minor": 5
}
