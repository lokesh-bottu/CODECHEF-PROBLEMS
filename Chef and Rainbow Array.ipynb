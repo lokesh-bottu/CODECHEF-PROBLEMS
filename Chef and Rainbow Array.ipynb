{
 "cells": [
  {
   "cell_type": "code",
   "execution_count": null,
   "id": "01fa73af",
   "metadata": {},
   "outputs": [],
   "source": [
    "for test in range(int(input())):\n",
    "    n=int(input())\n",
    "    a=input().split()\n",
    "    a=[eval(i) for i in a]\n",
    "    i=0\n",
    "    flag=0\n",
    "    while(len(a)):\n",
    "        if(a[i]==(a[i+1]-1) or a[i]==a[i+1]):\n",
    "            if(a[i+1]==7):\n",
    "                i+=1\n",
    "                break\n",
    "            i+=1\n",
    "        else:\n",
    "            flag=1\n",
    "            break\n",
    "    if(flag==0): \n",
    "        j=i+1\n",
    "        i=i-1\n",
    "        while(i>=0 and j<len(a)):\n",
    "            if(a[i]!=a[j]):\n",
    "                flag=1 \n",
    "                break\n",
    "            else:\n",
    "                i=i-1\n",
    "                j=j+1\n",
    "    if(flag==0 and i==-1 and j==len(a)):\n",
    "        print(\"YES\")\n",
    "    else:\n",
    "        print(\"NO\")\n"
   ]
  },
  {
   "cell_type": "code",
   "execution_count": null,
   "id": "cac739c8",
   "metadata": {},
   "outputs": [],
   "source": []
  }
 ],
 "metadata": {
  "kernelspec": {
   "display_name": "Python 3 (ipykernel)",
   "language": "python",
   "name": "python3"
  },
  "language_info": {
   "codemirror_mode": {
    "name": "ipython",
    "version": 3
   },
   "file_extension": ".py",
   "mimetype": "text/x-python",
   "name": "python",
   "nbconvert_exporter": "python",
   "pygments_lexer": "ipython3",
   "version": "3.9.12"
  }
 },
 "nbformat": 4,
 "nbformat_minor": 5
}
