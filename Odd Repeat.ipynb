{
 "cells": [
  {
   "cell_type": "code",
   "execution_count": 8,
   "id": "7b15b6f3",
   "metadata": {},
   "outputs": [
    {
     "name": "stdout",
     "output_type": "stream",
     "text": [
      "3\n",
      "3 2 14\n",
      "5\n",
      "5 4 28\n",
      "1\n",
      "2 3 10\n",
      "3\n"
     ]
    }
   ],
   "source": [
    "for test in range(int(input())):\n",
    "    n,k,s=map(int,input().split())\n",
    "    list=[]\n",
    "    j=1\n",
    "    i=1\n",
    "    while(i<=n):\n",
    "        list.append(j)\n",
    "        i+=1\n",
    "        j+=2\n",
    "    sum=0\n",
    "    for j in list:\n",
    "        sum+=j\n",
    "    total=sum\n",
    "    for i in list:\n",
    "        sum+=(i*(k-1))\n",
    "        if(sum==s):\n",
    "            print(i)\n",
    "            break\n",
    "        else:\n",
    "            sum=total"
   ]
  },
  {
   "cell_type": "code",
   "execution_count": null,
   "id": "0c6070c5",
   "metadata": {},
   "outputs": [],
   "source": []
  }
 ],
 "metadata": {
  "kernelspec": {
   "display_name": "Python 3 (ipykernel)",
   "language": "python",
   "name": "python3"
  },
  "language_info": {
   "codemirror_mode": {
    "name": "ipython",
    "version": 3
   },
   "file_extension": ".py",
   "mimetype": "text/x-python",
   "name": "python",
   "nbconvert_exporter": "python",
   "pygments_lexer": "ipython3",
   "version": "3.9.12"
  }
 },
 "nbformat": 4,
 "nbformat_minor": 5
}
