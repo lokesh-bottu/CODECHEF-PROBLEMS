{
 "cells": [
  {
   "cell_type": "code",
   "execution_count": 23,
   "id": "6cc1dd02",
   "metadata": {},
   "outputs": [],
   "source": [
    "freq=[0]*100\n",
    "cops=[4,7,8]\n",
    "houses=[12,52,56,8]\n",
    "homes=cops[1]*cops[2]\n",
    "for i in range(0,len(houses)):\n",
    "    freq[houses[i]-1:houses[i]+homes]=[1]*(homes+1)"
   ]
  },
  {
   "cell_type": "code",
   "execution_count": 26,
   "id": "6402160d",
   "metadata": {},
   "outputs": [],
   "source": [
    "if houses[0]<homes:\n",
    "    freq[(houses[0]-1)::-1]=[1]*houses[0]\n",
    "else:\n",
    "    freq[(houses[0]-1):(houses[0]-(homes+3)):-1]=[1]*(homes+1)"
   ]
  },
  {
   "cell_type": "code",
   "execution_count": 30,
   "id": "cc3f97fe",
   "metadata": {},
   "outputs": [
    {
     "name": "stdout",
     "output_type": "stream",
     "text": [
      "0\n"
     ]
    }
   ],
   "source": [
    "freq=[0]*100\n",
    "cops=[4,7,8]\n",
    "houses=[12,52,56,8]\n",
    "homes=cops[1]*cops[2]\n",
    "for i in range(0,len(houses)):\n",
    "    freq[houses[i]-1:houses[i]+homes]=[1]*(homes+1)\n",
    "if houses[0]<homes:\n",
    "    freq[(houses[0]-1)::-1]=[1]*houses[0]\n",
    "else:\n",
    "    freq[(houses[0]-1):(houses[0]-(homes+3)):-1]=[1]*(homes+1)\n",
    "print(freq.count(0))"
   ]
  },
  {
   "cell_type": "code",
   "execution_count": 32,
   "id": "e9729880",
   "metadata": {},
   "outputs": [
    {
     "name": "stdout",
     "output_type": "stream",
     "text": [
      "1\n",
      "2 5 8\n",
      "10 51\n",
      "9\n"
     ]
    }
   ],
   "source": [
    "for test in range(int(input())):\n",
    "    freq=[0]*100\n",
    "    m,x,y=map(int,input().split())\n",
    "    houses=input().split()\n",
    "    houses=[eval(i) for i in houses]\n",
    "    homes=x*y\n",
    "    for i in range(0,len(houses)):\n",
    "        freq[houses[i]-1:houses[i]+homes]=[1]*(homes+1)\n",
    "    if houses[0]<homes:\n",
    "        freq[(houses[0]-1)::-1]=[1]*houses[0]\n",
    "    else:\n",
    "        freq[(houses[0]-1):(houses[0]-(homes+3)):-1]=[1]*(homes+1)\n",
    "    print(freq.count(0))"
   ]
  },
  {
   "cell_type": "code",
   "execution_count": null,
   "id": "9e6b5bea",
   "metadata": {},
   "outputs": [],
   "source": []
  }
 ],
 "metadata": {
  "kernelspec": {
   "display_name": "Python 3 (ipykernel)",
   "language": "python",
   "name": "python3"
  },
  "language_info": {
   "codemirror_mode": {
    "name": "ipython",
    "version": 3
   },
   "file_extension": ".py",
   "mimetype": "text/x-python",
   "name": "python",
   "nbconvert_exporter": "python",
   "pygments_lexer": "ipython3",
   "version": "3.9.12"
  }
 },
 "nbformat": 4,
 "nbformat_minor": 5
}
