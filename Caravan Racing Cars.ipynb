{
 "cells": [
  {
   "cell_type": "code",
   "execution_count": 3,
   "id": "5fb6d540",
   "metadata": {},
   "outputs": [
    {
     "name": "stdout",
     "output_type": "stream",
     "text": [
      "10\n",
      "1\n"
     ]
    }
   ],
   "source": [
    "for j in range(int(input())):\n",
    "    x=int(input())\n",
    "    list=input().split()\n",
    "    list=[eval(i) for i in list]\n",
    "    small=list[0]\n",
    "    count=1\n",
    "    for i in range(1,len(list)):\n",
    "        if(list[i]<small):\n",
    "            count+=1\n",
    "            small=list[i]\n",
    "    print(count)\n"
   ]
  },
  {
   "cell_type": "code",
   "execution_count": null,
   "id": "ad0efc80",
   "metadata": {},
   "outputs": [],
   "source": []
  }
 ],
 "metadata": {
  "kernelspec": {
   "display_name": "Python 3 (ipykernel)",
   "language": "python",
   "name": "python3"
  },
  "language_info": {
   "codemirror_mode": {
    "name": "ipython",
    "version": 3
   },
   "file_extension": ".py",
   "mimetype": "text/x-python",
   "name": "python",
   "nbconvert_exporter": "python",
   "pygments_lexer": "ipython3",
   "version": "3.9.12"
  }
 },
 "nbformat": 4,
 "nbformat_minor": 5
}
