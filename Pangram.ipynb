{
 "cells": [
  {
   "cell_type": "code",
   "execution_count": null,
   "id": "e3cb144e",
   "metadata": {},
   "outputs": [],
   "source": [
    "# cook your dish here\n",
    "for i in range(int(input())):\n",
    "    sum=0\n",
    "    cost=input().split()\n",
    "    sent=input()\n",
    "    freq=[0]*26\n",
    "    for i in sent:\n",
    "        index=ord(i)-97\n",
    "        freq[index]=1\n",
    "    for j in range(len(freq)):\n",
    "        if freq[j]==0:\n",
    "            sum=sum+int(cost[j])\n",
    "    print(sum)"
   ]
  }
 ],
 "metadata": {
  "kernelspec": {
   "display_name": "Python 3 (ipykernel)",
   "language": "python",
   "name": "python3"
  },
  "language_info": {
   "codemirror_mode": {
    "name": "ipython",
    "version": 3
   },
   "file_extension": ".py",
   "mimetype": "text/x-python",
   "name": "python",
   "nbconvert_exporter": "python",
   "pygments_lexer": "ipython3",
   "version": "3.9.12"
  }
 },
 "nbformat": 4,
 "nbformat_minor": 5
}
