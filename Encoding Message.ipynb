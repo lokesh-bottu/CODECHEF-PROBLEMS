{
 "cells": [
  {
   "cell_type": "code",
   "execution_count": 4,
   "id": "fe0b72fd",
   "metadata": {},
   "outputs": [
    {
     "name": "stdout",
     "output_type": "stream",
     "text": [
      "2\n",
      "9\n",
      "sharechat\n",
      "shizxvzsg\n",
      "4\n",
      "chef\n",
      "sxuv\n"
     ]
    }
   ],
   "source": [
    "for k in range(int(input())):\n",
    "    length=int(input())\n",
    "    s=input()\n",
    "    strr=[]\n",
    "    if len(s)%2==0:\n",
    "        for i in range(0,len(s),2):\n",
    "            strr.append(s[i+1])\n",
    "            strr.append(s[i])\n",
    "    else:\n",
    "        for i in range(0,(len(s)-1),2):\n",
    "            strr.append(s[i+1])\n",
    "            strr.append(s[i])\n",
    "        strr.append(s[len(s)-1]) \n",
    "    alpha ='abcdefghijklmnopqrstuvwxyz'\n",
    "    al=alpha[::-1]\n",
    "    for i in range(len(strr)):\n",
    "        index=alpha.find(strr[i])\n",
    "        strr[i]=al[index]\n",
    "    print(\"\".join(strr))"
   ]
  },
  {
   "cell_type": "code",
   "execution_count": null,
   "id": "9efb8157",
   "metadata": {},
   "outputs": [],
   "source": []
  }
 ],
 "metadata": {
  "kernelspec": {
   "display_name": "Python 3 (ipykernel)",
   "language": "python",
   "name": "python3"
  },
  "language_info": {
   "codemirror_mode": {
    "name": "ipython",
    "version": 3
   },
   "file_extension": ".py",
   "mimetype": "text/x-python",
   "name": "python",
   "nbconvert_exporter": "python",
   "pygments_lexer": "ipython3",
   "version": "3.9.12"
  }
 },
 "nbformat": 4,
 "nbformat_minor": 5
}
