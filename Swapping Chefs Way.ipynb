{
 "cells": [
  {
   "cell_type": "code",
   "execution_count": 1,
   "id": "fd422e6b",
   "metadata": {},
   "outputs": [
    {
     "name": "stdout",
     "output_type": "stream",
     "text": [
      "3\n",
      "4\n",
      "dbca\n",
      "YES\n",
      "3\n",
      "ccc\n",
      "YES\n",
      "3\n",
      "bza\n",
      "NO\n"
     ]
    }
   ],
   "source": [
    "for test in range(int(input())):\n",
    "    \n",
    "    n=int(input())\n",
    "    string = input()\n",
    "    list = [str(i) for i in string]\n",
    "    j = len(string)-1\n",
    "    i=0\n",
    "    while(i<len(string)/2):\n",
    "        if(list[i]>list[j]):\n",
    "           (list[i],list[j])=(list[j],list[i])\n",
    "        i+=1\n",
    "        j-=1\n",
    "    if(list==sorted(list)):\n",
    "        print(\"YES\")\n",
    "    else:\n",
    "        print(\"NO\")"
   ]
  },
  {
   "cell_type": "code",
   "execution_count": null,
   "id": "0f763cd0",
   "metadata": {},
   "outputs": [],
   "source": []
  }
 ],
 "metadata": {
  "kernelspec": {
   "display_name": "Python 3 (ipykernel)",
   "language": "python",
   "name": "python3"
  },
  "language_info": {
   "codemirror_mode": {
    "name": "ipython",
    "version": 3
   },
   "file_extension": ".py",
   "mimetype": "text/x-python",
   "name": "python",
   "nbconvert_exporter": "python",
   "pygments_lexer": "ipython3",
   "version": "3.9.12"
  }
 },
 "nbformat": 4,
 "nbformat_minor": 5
}
