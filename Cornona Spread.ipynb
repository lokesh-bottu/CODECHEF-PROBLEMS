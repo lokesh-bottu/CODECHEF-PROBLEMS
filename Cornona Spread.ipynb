{
 "cells": [
  {
   "cell_type": "code",
   "execution_count": null,
   "id": "1c4a5fa3",
   "metadata": {},
   "outputs": [],
   "source": [
    "for j in range(int(input())):\n",
    "    n=int(input())\n",
    "    list=input().split()\n",
    "    list=[eval(i) for i in list]\n",
    "    out=[]\n",
    "    count=1\n",
    "    for i in range(0,len(list)-1):\n",
    "        if(list[i+1]-list[i]<=2):\n",
    "            count+=1\n",
    "        else:\n",
    "            out.append(count)\n",
    "            count=1\n",
    "    out.append(count)\n",
    "    print(min(out),max(out))"
   ]
  }
 ],
 "metadata": {
  "kernelspec": {
   "display_name": "Python 3 (ipykernel)",
   "language": "python",
   "name": "python3"
  },
  "language_info": {
   "codemirror_mode": {
    "name": "ipython",
    "version": 3
   },
   "file_extension": ".py",
   "mimetype": "text/x-python",
   "name": "python",
   "nbconvert_exporter": "python",
   "pygments_lexer": "ipython3",
   "version": "3.9.12"
  }
 },
 "nbformat": 4,
 "nbformat_minor": 5
}
