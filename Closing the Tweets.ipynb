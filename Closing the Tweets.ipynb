{
 "cells": [
  {
   "cell_type": "code",
   "execution_count": 28,
   "id": "77782503",
   "metadata": {},
   "outputs": [
    {
     "name": "stdout",
     "output_type": "stream",
     "text": [
      "3 6\n",
      "CLICK 1\n",
      "1\n",
      "[1, 0, 0]\n",
      "CLICK 2\n",
      "2\n",
      "[1, 1, 0]\n",
      "CLICK 3\n",
      "3\n",
      "[1, 1, 1]\n",
      "CLOSEALL\n",
      "0\n",
      "CLICK 1\n",
      "1\n",
      "[1, 0, 0]\n",
      "CLICK 2\n",
      "2\n",
      "[1, 1, 0]\n"
     ]
    }
   ],
   "source": [
    "num,k=map(int,input().split())\n",
    "list=[0]*num\n",
    "for i in range(1,k+1):\n",
    "    cmd=input()\n",
    "    if cmd==\"CLOSEALL\":\n",
    "        list=[0]*num\n",
    "        print(list.count(1))\n",
    "    else:\n",
    "        index=int(cmd[6])-1\n",
    "        if(list[index]==1):\n",
    "            list[index]=0\n",
    "        else:\n",
    "            list[index]=1\n",
    "        print(list.count(1))\n",
    "        print(list)"
   ]
  }
 ],
 "metadata": {
  "kernelspec": {
   "display_name": "Python 3 (ipykernel)",
   "language": "python",
   "name": "python3"
  },
  "language_info": {
   "codemirror_mode": {
    "name": "ipython",
    "version": 3
   },
   "file_extension": ".py",
   "mimetype": "text/x-python",
   "name": "python",
   "nbconvert_exporter": "python",
   "pygments_lexer": "ipython3",
   "version": "3.9.12"
  }
 },
 "nbformat": 4,
 "nbformat_minor": 5
}
