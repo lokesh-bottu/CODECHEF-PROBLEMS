{
 "cells": [
  {
   "cell_type": "code",
   "execution_count": null,
   "id": "2aed4414",
   "metadata": {},
   "outputs": [],
   "source": [
    "# cook your dish here\n",
    "for i in range(int(input())):\n",
    "    word=input()\n",
    "    word1=word[:int(len(word)/2)]\n",
    "    word2=word[int((len(word)+1)/2):]\n",
    "    flag=0\n",
    "    for l in word1:\n",
    "        if word1.count(l)!=word2.count(l):\n",
    "            flag=1\n",
    "            print(\"NO \")\n",
    "            break\n",
    "    if(flag==0):\n",
    "        print(\"YES\")"
   ]
  }
 ],
 "metadata": {
  "kernelspec": {
   "display_name": "Python 3 (ipykernel)",
   "language": "python",
   "name": "python3"
  },
  "language_info": {
   "codemirror_mode": {
    "name": "ipython",
    "version": 3
   },
   "file_extension": ".py",
   "mimetype": "text/x-python",
   "name": "python",
   "nbconvert_exporter": "python",
   "pygments_lexer": "ipython3",
   "version": "3.9.12"
  }
 },
 "nbformat": 4,
 "nbformat_minor": 5
}
