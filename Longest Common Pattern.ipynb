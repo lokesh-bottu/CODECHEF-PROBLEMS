{
 "cells": [
  {
   "cell_type": "code",
   "execution_count": 24,
   "id": "9de258f3",
   "metadata": {},
   "outputs": [
    {
     "name": "stdout",
     "output_type": "stream",
     "text": [
      "4\n",
      "abcd\n",
      "xyz\n",
      "0\n",
      "abcd\n",
      "bcda\n",
      "4\n",
      "aabc\n",
      "acaa\n",
      "3\n",
      "codechef\n",
      "elfeddc\n",
      "5\n"
     ]
    }
   ],
   "source": [
    "for k in range(int(input())):\n",
    "    string=input()\n",
    "    sub_string=input()\n",
    "    main=[str(i) for i in string]\n",
    "    sub=[str(i) for i in sub_string]\n",
    "    count=0\n",
    "    for j in sub:\n",
    "        if(j in main):\n",
    "            count+=1\n",
    "            index=main.index(j)\n",
    "            del main[index]\n",
    "    print(count)"
   ]
  }
 ],
 "metadata": {
  "kernelspec": {
   "display_name": "Python 3 (ipykernel)",
   "language": "python",
   "name": "python3"
  },
  "language_info": {
   "codemirror_mode": {
    "name": "ipython",
    "version": 3
   },
   "file_extension": ".py",
   "mimetype": "text/x-python",
   "name": "python",
   "nbconvert_exporter": "python",
   "pygments_lexer": "ipython3",
   "version": "3.9.12"
  }
 },
 "nbformat": 4,
 "nbformat_minor": 5
}
