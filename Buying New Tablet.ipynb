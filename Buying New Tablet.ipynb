{
 "cells": [
  {
   "cell_type": "code",
   "execution_count": 1,
   "id": "19cbd3c1",
   "metadata": {},
   "outputs": [
    {
     "name": "stdout",
     "output_type": "stream",
     "text": [
      "3\n",
      "3 6\n",
      "3 4 4\n",
      "5 7 7\n",
      "5 2 5\n",
      "12\n",
      "2 6\n",
      "3 6 8\n",
      "5 4 9\n",
      "no tablet\n",
      "1 10\n",
      "5 5 10\n",
      "25\n"
     ]
    }
   ],
   "source": [
    "# cook your dish here\n",
    "for k in range(int(input())):\n",
    "    lines,amount=map(int,input().split())\n",
    "    area=0\n",
    "    for line in range(lines):\n",
    "        w,h,price=map(int,input().split())\n",
    "        if(price<=amount):\n",
    "            if(area<w*h):\n",
    "                area=w*h\n",
    "    if(area==0):\n",
    "        print(\"no tablet\")\n",
    "    else:\n",
    "        print(area)"
   ]
  }
 ],
 "metadata": {
  "kernelspec": {
   "display_name": "Python 3 (ipykernel)",
   "language": "python",
   "name": "python3"
  },
  "language_info": {
   "codemirror_mode": {
    "name": "ipython",
    "version": 3
   },
   "file_extension": ".py",
   "mimetype": "text/x-python",
   "name": "python",
   "nbconvert_exporter": "python",
   "pygments_lexer": "ipython3",
   "version": "3.9.12"
  }
 },
 "nbformat": 4,
 "nbformat_minor": 5
}
