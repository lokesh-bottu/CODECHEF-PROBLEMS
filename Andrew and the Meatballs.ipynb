{
 "cells": [
  {
   "cell_type": "code",
   "execution_count": 5,
   "id": "b929f21c",
   "metadata": {},
   "outputs": [
    {
     "name": "stdout",
     "output_type": "stream",
     "text": [
      "1\n",
      "4 7\n",
      "1 2 3 4\n",
      "2\n"
     ]
    }
   ],
   "source": [
    "for test in range(int(input())):\n",
    "    n,m=map(int,input().split())\n",
    "    list=input().split()\n",
    "    list=[eval(i) for i in list]\n",
    "    list.sort(reverse=True)\n",
    "    sum=0\n",
    "    i=0\n",
    "    while(i<len(list)):\n",
    "        sum=sum+list[i]\n",
    "        if(sum>=m):\n",
    "            break\n",
    "        i+=1\n",
    "    if sum<m:\n",
    "        print(-1)\n",
    "    else:\n",
    "        print(i+1)"
   ]
  },
  {
   "cell_type": "code",
   "execution_count": null,
   "id": "1c943782",
   "metadata": {},
   "outputs": [],
   "source": []
  }
 ],
 "metadata": {
  "kernelspec": {
   "display_name": "Python 3 (ipykernel)",
   "language": "python",
   "name": "python3"
  },
  "language_info": {
   "codemirror_mode": {
    "name": "ipython",
    "version": 3
   },
   "file_extension": ".py",
   "mimetype": "text/x-python",
   "name": "python",
   "nbconvert_exporter": "python",
   "pygments_lexer": "ipython3",
   "version": "3.9.12"
  }
 },
 "nbformat": 4,
 "nbformat_minor": 5
}
