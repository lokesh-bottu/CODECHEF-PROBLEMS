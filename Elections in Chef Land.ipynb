{
 "cells": [
  {
   "cell_type": "code",
   "execution_count": null,
   "id": "2c9c3254",
   "metadata": {},
   "outputs": [],
   "source": [
    "# cook your dish here\n",
    "for k in range(int(input())):\n",
    "    a,b,c=map(int,input().split())\n",
    "    if a>50:\n",
    "        print(\"A\")\n",
    "    elif b>50:\n",
    "        print(\"B\")\n",
    "    elif c>50:\n",
    "        print(\"C\")\n",
    "    else:\n",
    "        print(\"NOTA\")"
   ]
  }
 ],
 "metadata": {
  "kernelspec": {
   "display_name": "Python 3 (ipykernel)",
   "language": "python",
   "name": "python3"
  },
  "language_info": {
   "codemirror_mode": {
    "name": "ipython",
    "version": 3
   },
   "file_extension": ".py",
   "mimetype": "text/x-python",
   "name": "python",
   "nbconvert_exporter": "python",
   "pygments_lexer": "ipython3",
   "version": "3.9.12"
  }
 },
 "nbformat": 4,
 "nbformat_minor": 5
}
